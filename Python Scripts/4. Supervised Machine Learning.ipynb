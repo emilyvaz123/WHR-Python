{
 "cells": [
  {
   "cell_type": "markdown",
   "id": "80ac63d7",
   "metadata": {},
   "source": [
    "# Table of Contents \n",
    "\n",
    "1. Import Libraries \n",
    "\n",
    "2. Import Dataframe \n",
    "\n",
    "3. Data Cleaning \n",
    "    a. Extreme values check\n",
    "    \n",
    "4. Data prep for Regression Analysis \n",
    "    a. Hypothesis \n",
    "    \n",
    "5. Regression Analysis \n",
    "    a. Interpretation of Results \n",
    "    b. Regressional Analysis vs Training Set "
   ]
  },
  {
   "cell_type": "markdown",
   "id": "a6b483d0",
   "metadata": {},
   "source": [
    "## 1. Import Libraries "
   ]
  },
  {
   "cell_type": "code",
   "execution_count": 1,
   "id": "c5888805",
   "metadata": {},
   "outputs": [],
   "source": [
    "import pandas as pd\n",
    "import numpy as np\n",
    "import seaborn as sns\n",
    "import matplotlib\n",
    "import matplotlib.pyplot as plt\n",
    "import os\n",
    "import sklearn\n",
    "from sklearn.model_selection import train_test_split\n",
    "from sklearn.linear_model import LinearRegression\n",
    "from sklearn.metrics import mean_squared_error, r2_score"
   ]
  },
  {
   "cell_type": "code",
   "execution_count": 2,
   "id": "ebdaac58",
   "metadata": {},
   "outputs": [],
   "source": [
    "# This option ensures that the graphs you create are displayed within the notebook without the need to \"call\" them specifically.\n",
    "\n",
    "%matplotlib inline"
   ]
  },
  {
   "cell_type": "markdown",
   "id": "2aa6dd5b",
   "metadata": {},
   "source": [
    "## 2. Import Dataframe "
   ]
  },
  {
   "cell_type": "code",
   "execution_count": 3,
   "id": "7fae0945",
   "metadata": {},
   "outputs": [],
   "source": [
    "# Create a path for quicker import\n",
    "path = r'C:\\Users\\emily\\OneDrive\\Documents\\Career Foundry 2022\\Data Immersion\\Achievement 6'"
   ]
  },
  {
   "cell_type": "code",
   "execution_count": 4,
   "id": "85e78623",
   "metadata": {},
   "outputs": [],
   "source": [
    "# Importing dataframe \n",
    "df = pd.read_csv(os.path.join(path, 'Data', 'Prepared Data', 'Complete_dataset.csv'), index_col = False)"
   ]
  },
  {
   "cell_type": "code",
   "execution_count": 5,
   "id": "3b345e6a",
   "metadata": {},
   "outputs": [
    {
     "data": {
      "text/html": [
       "<div>\n",
       "<style scoped>\n",
       "    .dataframe tbody tr th:only-of-type {\n",
       "        vertical-align: middle;\n",
       "    }\n",
       "\n",
       "    .dataframe tbody tr th {\n",
       "        vertical-align: top;\n",
       "    }\n",
       "\n",
       "    .dataframe thead th {\n",
       "        text-align: right;\n",
       "    }\n",
       "</style>\n",
       "<table border=\"1\" class=\"dataframe\">\n",
       "  <thead>\n",
       "    <tr style=\"text-align: right;\">\n",
       "      <th></th>\n",
       "      <th>Country Rank</th>\n",
       "      <th>Year</th>\n",
       "      <th>Country</th>\n",
       "      <th>Region</th>\n",
       "      <th>Happiness Score</th>\n",
       "      <th>Economy (GDP per Capita)</th>\n",
       "      <th>Family (Social Support)</th>\n",
       "      <th>Health (Life Expectancy)</th>\n",
       "      <th>Freedom (Life Choices)</th>\n",
       "      <th>Trust (Government Corruption)</th>\n",
       "      <th>Generosity (Donations to Charity)</th>\n",
       "      <th>Dystopia Residual</th>\n",
       "      <th>Happiness Status</th>\n",
       "    </tr>\n",
       "  </thead>\n",
       "  <tbody>\n",
       "    <tr>\n",
       "      <th>0</th>\n",
       "      <td>1</td>\n",
       "      <td>2015</td>\n",
       "      <td>Switzerland</td>\n",
       "      <td>Western Europe</td>\n",
       "      <td>7.587</td>\n",
       "      <td>1.397</td>\n",
       "      <td>1.350</td>\n",
       "      <td>0.941</td>\n",
       "      <td>0.666</td>\n",
       "      <td>0.420</td>\n",
       "      <td>0.297</td>\n",
       "      <td>2.517</td>\n",
       "      <td>Happy Country</td>\n",
       "    </tr>\n",
       "    <tr>\n",
       "      <th>1</th>\n",
       "      <td>2</td>\n",
       "      <td>2015</td>\n",
       "      <td>Iceland</td>\n",
       "      <td>Western Europe</td>\n",
       "      <td>7.561</td>\n",
       "      <td>1.302</td>\n",
       "      <td>1.402</td>\n",
       "      <td>0.948</td>\n",
       "      <td>0.629</td>\n",
       "      <td>0.141</td>\n",
       "      <td>0.436</td>\n",
       "      <td>2.702</td>\n",
       "      <td>Happy Country</td>\n",
       "    </tr>\n",
       "    <tr>\n",
       "      <th>2</th>\n",
       "      <td>3</td>\n",
       "      <td>2015</td>\n",
       "      <td>Denmark</td>\n",
       "      <td>Western Europe</td>\n",
       "      <td>7.527</td>\n",
       "      <td>1.325</td>\n",
       "      <td>1.361</td>\n",
       "      <td>0.875</td>\n",
       "      <td>0.649</td>\n",
       "      <td>0.484</td>\n",
       "      <td>0.341</td>\n",
       "      <td>2.492</td>\n",
       "      <td>Happy Country</td>\n",
       "    </tr>\n",
       "    <tr>\n",
       "      <th>3</th>\n",
       "      <td>4</td>\n",
       "      <td>2015</td>\n",
       "      <td>Norway</td>\n",
       "      <td>Western Europe</td>\n",
       "      <td>7.522</td>\n",
       "      <td>1.459</td>\n",
       "      <td>1.331</td>\n",
       "      <td>0.885</td>\n",
       "      <td>0.670</td>\n",
       "      <td>0.365</td>\n",
       "      <td>0.347</td>\n",
       "      <td>2.465</td>\n",
       "      <td>Happy Country</td>\n",
       "    </tr>\n",
       "    <tr>\n",
       "      <th>4</th>\n",
       "      <td>5</td>\n",
       "      <td>2015</td>\n",
       "      <td>Canada</td>\n",
       "      <td>North America</td>\n",
       "      <td>7.427</td>\n",
       "      <td>1.326</td>\n",
       "      <td>1.323</td>\n",
       "      <td>0.906</td>\n",
       "      <td>0.633</td>\n",
       "      <td>0.330</td>\n",
       "      <td>0.458</td>\n",
       "      <td>2.452</td>\n",
       "      <td>Happy Country</td>\n",
       "    </tr>\n",
       "  </tbody>\n",
       "</table>\n",
       "</div>"
      ],
      "text/plain": [
       "   Country Rank  Year      Country          Region  Happiness Score  \\\n",
       "0             1  2015  Switzerland  Western Europe            7.587   \n",
       "1             2  2015      Iceland  Western Europe            7.561   \n",
       "2             3  2015      Denmark  Western Europe            7.527   \n",
       "3             4  2015       Norway  Western Europe            7.522   \n",
       "4             5  2015       Canada   North America            7.427   \n",
       "\n",
       "   Economy (GDP per Capita)  Family (Social Support)  \\\n",
       "0                     1.397                    1.350   \n",
       "1                     1.302                    1.402   \n",
       "2                     1.325                    1.361   \n",
       "3                     1.459                    1.331   \n",
       "4                     1.326                    1.323   \n",
       "\n",
       "   Health (Life Expectancy)  Freedom (Life Choices)  \\\n",
       "0                     0.941                   0.666   \n",
       "1                     0.948                   0.629   \n",
       "2                     0.875                   0.649   \n",
       "3                     0.885                   0.670   \n",
       "4                     0.906                   0.633   \n",
       "\n",
       "   Trust (Government Corruption)  Generosity (Donations to Charity)  \\\n",
       "0                          0.420                              0.297   \n",
       "1                          0.141                              0.436   \n",
       "2                          0.484                              0.341   \n",
       "3                          0.365                              0.347   \n",
       "4                          0.330                              0.458   \n",
       "\n",
       "   Dystopia Residual Happiness Status  \n",
       "0              2.517    Happy Country  \n",
       "1              2.702    Happy Country  \n",
       "2              2.492    Happy Country  \n",
       "3              2.465    Happy Country  \n",
       "4              2.452    Happy Country  "
      ]
     },
     "execution_count": 5,
     "metadata": {},
     "output_type": "execute_result"
    }
   ],
   "source": [
    "df.head()"
   ]
  },
  {
   "cell_type": "code",
   "execution_count": 6,
   "id": "f101b59c",
   "metadata": {},
   "outputs": [
    {
     "data": {
      "text/plain": [
       "(1208, 13)"
      ]
     },
     "execution_count": 6,
     "metadata": {},
     "output_type": "execute_result"
    }
   ],
   "source": [
    "df.shape"
   ]
  },
  {
   "cell_type": "markdown",
   "id": "37955540",
   "metadata": {},
   "source": [
    "## 3. Data Cleaning "
   ]
  },
  {
   "cell_type": "code",
   "execution_count": 7,
   "id": "b4cc42c9",
   "metadata": {},
   "outputs": [
    {
     "data": {
      "text/plain": [
       "Country Rank                         0\n",
       "Year                                 0\n",
       "Country                              0\n",
       "Region                               0\n",
       "Happiness Score                      0\n",
       "Economy (GDP per Capita)             0\n",
       "Family (Social Support)              0\n",
       "Health (Life Expectancy)             0\n",
       "Freedom (Life Choices)               0\n",
       "Trust (Government Corruption)        0\n",
       "Generosity (Donations to Charity)    0\n",
       "Dystopia Residual                    0\n",
       "Happiness Status                     0\n",
       "dtype: int64"
      ]
     },
     "execution_count": 7,
     "metadata": {},
     "output_type": "execute_result"
    }
   ],
   "source": [
    "# Check for missing values\n",
    "df.isnull().sum()"
   ]
  },
  {
   "cell_type": "code",
   "execution_count": 8,
   "id": "ad027cb4",
   "metadata": {},
   "outputs": [],
   "source": [
    "# Check for duplicates\n",
    "df_dup = df.duplicated()"
   ]
  },
  {
   "cell_type": "code",
   "execution_count": 9,
   "id": "6e987979",
   "metadata": {},
   "outputs": [
    {
     "data": {
      "text/plain": [
       "(1208,)"
      ]
     },
     "execution_count": 9,
     "metadata": {},
     "output_type": "execute_result"
    }
   ],
   "source": [
    "df_dup.shape"
   ]
  },
  {
   "cell_type": "markdown",
   "id": "9e740b78",
   "metadata": {},
   "source": [
    "### 3a. Extreme Values Check "
   ]
  },
  {
   "cell_type": "code",
   "execution_count": 10,
   "id": "6b50c69c",
   "metadata": {},
   "outputs": [
    {
     "name": "stderr",
     "output_type": "stream",
     "text": [
      "C:\\Users\\emily\\anaconda3\\lib\\site-packages\\seaborn\\distributions.py:2619: FutureWarning: `distplot` is a deprecated function and will be removed in a future version. Please adapt your code to use either `displot` (a figure-level function with similar flexibility) or `histplot` (an axes-level function for histograms).\n",
      "  warnings.warn(msg, FutureWarning)\n"
     ]
    },
    {
     "data": {
      "text/plain": [
       "<AxesSubplot:xlabel='Happiness Score', ylabel='Density'>"
      ]
     },
     "execution_count": 10,
     "metadata": {},
     "output_type": "execute_result"
    },
    {
     "data": {
      "image/png": "[encoded data removed]",
      "text/plain": [
       "<Figure size 432x288 with 1 Axes>"
      ]
     },
     "metadata": {
      "needs_background": "light"
     },
     "output_type": "display_data"
    }
   ],
   "source": [
    "# Check for extreme values\n",
    "sns.distplot(df['Happiness Score'], bins = 20)"
   ]
  },
  {
   "cell_type": "code",
   "execution_count": 11,
   "id": "72ea0545",
   "metadata": {},
   "outputs": [
    {
     "data": {
      "text/plain": [
       "5.439515728476811"
      ]
     },
     "execution_count": 11,
     "metadata": {},
     "output_type": "execute_result"
    }
   ],
   "source": [
    "# Check the mean \n",
    "df['Happiness Score'].mean()"
   ]
  },
  {
   "cell_type": "code",
   "execution_count": 12,
   "id": "aff35015",
   "metadata": {},
   "outputs": [
    {
     "data": {
      "text/plain": [
       "5.43"
      ]
     },
     "execution_count": 12,
     "metadata": {},
     "output_type": "execute_result"
    }
   ],
   "source": [
    "# Check the median\n",
    "df['Happiness Score'].median()"
   ]
  },
  {
   "cell_type": "code",
   "execution_count": 13,
   "id": "eac3329f",
   "metadata": {},
   "outputs": [
    {
     "data": {
      "text/plain": [
       "7.842"
      ]
     },
     "execution_count": 13,
     "metadata": {},
     "output_type": "execute_result"
    }
   ],
   "source": [
    "# Check the max \n",
    "df['Happiness Score'].max()"
   ]
  },
  {
   "cell_type": "markdown",
   "id": "1e8b4a70",
   "metadata": {},
   "source": [
    "## 4. Data Prep for Regression Analysis "
   ]
  },
  {
   "cell_type": "code",
   "execution_count": 14,
   "id": "e0e93822",
   "metadata": {
    "scrolled": true
   },
   "outputs": [
    {
     "data": {
      "image/png": "[encoded data removed]",
      "text/plain": [
       "<Figure size 432x288 with 1 Axes>"
      ]
     },
     "metadata": {
      "needs_background": "light"
     },
     "output_type": "display_data"
    }
   ],
   "source": [
    "# Create a scatterplot using matplotlib for another look at how the chosen variables plot against each other\n",
    "df.plot(x = 'Dystopia Residual', y = 'Happiness Score', style ='o')\n",
    "plt.title('Dystopia Residual vs Happiness Score')\n",
    "plt.xlabel = 'Economy (GDP Per Capita)'\n",
    "plt.ylabel = 'Happiness Score'\n",
    "plt.show()"
   ]
  },
  {
   "cell_type": "code",
   "execution_count": 15,
   "id": "4c9ade09",
   "metadata": {},
   "outputs": [],
   "source": [
    "# Reshape the variables into NumPy arrays and put them into separate objects\n",
    "X = df['Dystopia Residual'].values.reshape(-1,1)\n",
    "y = df['Happiness Score'].values.reshape(-1,1)"
   ]
  },
  {
   "cell_type": "code",
   "execution_count": 16,
   "id": "d5d40f76",
   "metadata": {},
   "outputs": [
    {
     "data": {
      "text/plain": [
       "array([[2.517],\n",
       "       [2.702],\n",
       "       [2.492],\n",
       "       ...,\n",
       "       [0.548],\n",
       "       [0.216],\n",
       "       [1.263]])"
      ]
     },
     "execution_count": 16,
     "metadata": {},
     "output_type": "execute_result"
    }
   ],
   "source": [
    "X"
   ]
  },
  {
   "cell_type": "code",
   "execution_count": 17,
   "id": "8a779f0f",
   "metadata": {},
   "outputs": [
    {
     "data": {
      "text/plain": [
       "array([[7.587],\n",
       "       [7.561],\n",
       "       [7.527],\n",
       "       ...,\n",
       "       [2.995],\n",
       "       [2.955],\n",
       "       [2.404]])"
      ]
     },
     "execution_count": 17,
     "metadata": {},
     "output_type": "execute_result"
    }
   ],
   "source": [
    "y"
   ]
  },
  {
   "cell_type": "code",
   "execution_count": 18,
   "id": "1d4ee846",
   "metadata": {},
   "outputs": [],
   "source": [
    "# Split data into a training set and a test set\n",
    "X_train, X_test, y_train, y_test = train_test_split(X, y, test_size = 0.3, random_state = 0)"
   ]
  },
  {
   "cell_type": "markdown",
   "id": "d540ef00",
   "metadata": {},
   "source": [
    "### 4a. Hypothesis\n",
    "\n",
    "A country will classify as a \"Happy Country\" if theirscore  Dystopia Residual in greater than 1.88. "
   ]
  },
  {
   "cell_type": "code",
   "execution_count": 19,
   "id": "ecb35422",
   "metadata": {},
   "outputs": [
    {
     "data": {
      "text/html": [
       "<div>\n",
       "<style scoped>\n",
       "    .dataframe tbody tr th:only-of-type {\n",
       "        vertical-align: middle;\n",
       "    }\n",
       "\n",
       "    .dataframe tbody tr th {\n",
       "        vertical-align: top;\n",
       "    }\n",
       "\n",
       "    .dataframe thead tr th {\n",
       "        text-align: left;\n",
       "    }\n",
       "\n",
       "    .dataframe thead tr:last-of-type th {\n",
       "        text-align: right;\n",
       "    }\n",
       "</style>\n",
       "<table border=\"1\" class=\"dataframe\">\n",
       "  <thead>\n",
       "    <tr>\n",
       "      <th></th>\n",
       "      <th colspan=\"2\" halign=\"left\">Happiness Score</th>\n",
       "    </tr>\n",
       "    <tr>\n",
       "      <th></th>\n",
       "      <th>min</th>\n",
       "      <th>max</th>\n",
       "    </tr>\n",
       "    <tr>\n",
       "      <th>Happiness Status</th>\n",
       "      <th></th>\n",
       "      <th></th>\n",
       "    </tr>\n",
       "  </thead>\n",
       "  <tbody>\n",
       "    <tr>\n",
       "      <th>Happy Country</th>\n",
       "      <td>6.000</td>\n",
       "      <td>7.842</td>\n",
       "    </tr>\n",
       "    <tr>\n",
       "      <th>Somewhat Happy Country</th>\n",
       "      <td>4.015</td>\n",
       "      <td>5.999</td>\n",
       "    </tr>\n",
       "    <tr>\n",
       "      <th>Unhappy Country</th>\n",
       "      <td>2.404</td>\n",
       "      <td>3.999</td>\n",
       "    </tr>\n",
       "  </tbody>\n",
       "</table>\n",
       "</div>"
      ],
      "text/plain": [
       "                       Happiness Score       \n",
       "                                   min    max\n",
       "Happiness Status                             \n",
       "Happy Country                    6.000  7.842\n",
       "Somewhat Happy Country           4.015  5.999\n",
       "Unhappy Country                  2.404  3.999"
      ]
     },
     "execution_count": 19,
     "metadata": {},
     "output_type": "execute_result"
    }
   ],
   "source": [
    "# Group the Happiness Status and Happiness Score to find out what the minimum score is for a 'happy country'\n",
    "df.groupby('Happiness Status').agg({'Happiness Score': ['min', 'max']})"
   ]
  },
  {
   "cell_type": "markdown",
   "id": "74499f3b",
   "metadata": {},
   "source": [
    "Any country with a happiness score below 6.000 is not considered a \"Happy Country\". "
   ]
  },
  {
   "cell_type": "markdown",
   "id": "5fdb95b9",
   "metadata": {},
   "source": [
    "## 5. Regression Analysis "
   ]
  },
  {
   "cell_type": "code",
   "execution_count": 20,
   "id": "6d929492",
   "metadata": {},
   "outputs": [],
   "source": [
    "# Create a regression object\n",
    "regression = LinearRegression() # This is the regression object, which will be fit onto the training set"
   ]
  },
  {
   "cell_type": "code",
   "execution_count": 21,
   "id": "b4ec1164",
   "metadata": {},
   "outputs": [
    {
     "data": {
      "text/plain": [
       "LinearRegression()"
      ]
     },
     "execution_count": 21,
     "metadata": {},
     "output_type": "execute_result"
    }
   ],
   "source": [
    "# Fit the regression to the train set\n",
    "regression.fit(X_train, y_train)"
   ]
  },
  {
   "cell_type": "code",
   "execution_count": 22,
   "id": "7e385de4",
   "metadata": {},
   "outputs": [],
   "source": [
    "# Predict the values of y using X\n",
    "y_predicted = regression.predict(X_test)"
   ]
  },
  {
   "cell_type": "code",
   "execution_count": 23,
   "id": "d45a5fd9",
   "metadata": {},
   "outputs": [],
   "source": [
    "# Reload the library as Line 13 already includes plt.xlabel and plt.ylabel. Cannot label the below plot without getting an error.\n",
    "import matplotlib.pyplot as plt\n",
    "from importlib import reload\n",
    "plt=reload(plt)"
   ]
  },
  {
   "cell_type": "code",
   "execution_count": 24,
   "id": "23ca82b7",
   "metadata": {},
   "outputs": [
    {
     "data": {
      "image/png": "[encoded data removed]",
      "text/plain": [
       "<Figure size 432x288 with 1 Axes>"
      ]
     },
     "metadata": {
      "needs_background": "light"
     },
     "output_type": "display_data"
    }
   ],
   "source": [
    "# Create a plot that shows the regression line from the model on the test set\n",
    "\n",
    "plot_test = plt\n",
    "plot_test.scatter(X_test, y_test, color='gray', s = 15)\n",
    "plot_test.plot(X_test, y_predicted, color='red', linewidth =3)\n",
    "plot_test.title('Dystopia Residual vs Happiness Score (test set)')\n",
    "plot_test.xlabel('Dystopia Residual')\n",
    "plot_test.ylabel('Happiness Score')\n",
    "plot_test.show()"
   ]
  },
  {
   "cell_type": "code",
   "execution_count": 25,
   "id": "161531ea",
   "metadata": {},
   "outputs": [],
   "source": [
    "# Create objects that contain the model summary statistics\n",
    "\n",
    "rmse = mean_squared_error(y_test, y_predicted) # This is the mean squared error\n",
    "r2 = r2_score(y_test, y_predicted) # This is the R2 score."
   ]
  },
  {
   "cell_type": "code",
   "execution_count": 26,
   "id": "d831a9f5",
   "metadata": {},
   "outputs": [
    {
     "name": "stdout",
     "output_type": "stream",
     "text": [
      "Slope: [[0.92897304]]\n",
      "Mean squared error:  0.9822111575664798\n",
      "R2 score:  0.17593374990727473\n"
     ]
    }
   ],
   "source": [
    "# Print the model summary statistics. This is where you evaluate the performance of the model\n",
    "\n",
    "print('Slope:' , regression.coef_)\n",
    "print('Mean squared error: ', rmse)\n",
    "print('R2 score: ', r2)"
   ]
  },
  {
   "cell_type": "markdown",
   "id": "193ca0cc",
   "metadata": {},
   "source": [
    "### 5a. Interpretation \n",
    "\n",
    "There is a positive relationship between the dystopia residual and a country's happiness score. This confirms my hypothesis that a happy country will have a dystopia residual score of 1.88 or higher. The positive relationship indicated by the positive slope indicates that the higher the happiness score, dystopia residual scores will also increase. The MSE is 0.98, indicating that the regression line passes fairly close to the regression line. The graph shows that many points are scattered, a linear regression model may not be the best fit for this analyis. Additionally, the R2 score is a small score of 0.17, indicating that this regression analysis is a poor fit for this analysis. "
   ]
  },
  {
   "cell_type": "code",
   "execution_count": 27,
   "id": "4e92107f",
   "metadata": {},
   "outputs": [
    {
     "data": {
      "text/html": [
       "<div>\n",
       "<style scoped>\n",
       "    .dataframe tbody tr th:only-of-type {\n",
       "        vertical-align: middle;\n",
       "    }\n",
       "\n",
       "    .dataframe tbody tr th {\n",
       "        vertical-align: top;\n",
       "    }\n",
       "\n",
       "    .dataframe thead th {\n",
       "        text-align: right;\n",
       "    }\n",
       "</style>\n",
       "<table border=\"1\" class=\"dataframe\">\n",
       "  <thead>\n",
       "    <tr style=\"text-align: right;\">\n",
       "      <th></th>\n",
       "      <th>Actual</th>\n",
       "      <th>Predicted</th>\n",
       "    </tr>\n",
       "  </thead>\n",
       "  <tbody>\n",
       "    <tr>\n",
       "      <th>0</th>\n",
       "      <td>4.417</td>\n",
       "      <td>5.617256</td>\n",
       "    </tr>\n",
       "    <tr>\n",
       "      <th>1</th>\n",
       "      <td>7.406</td>\n",
       "      <td>5.961905</td>\n",
       "    </tr>\n",
       "    <tr>\n",
       "      <th>2</th>\n",
       "      <td>3.904</td>\n",
       "      <td>4.869433</td>\n",
       "    </tr>\n",
       "    <tr>\n",
       "      <th>3</th>\n",
       "      <td>3.808</td>\n",
       "      <td>4.856427</td>\n",
       "    </tr>\n",
       "    <tr>\n",
       "      <th>4</th>\n",
       "      <td>5.878</td>\n",
       "      <td>5.561518</td>\n",
       "    </tr>\n",
       "    <tr>\n",
       "      <th>5</th>\n",
       "      <td>6.774</td>\n",
       "      <td>5.293258</td>\n",
       "    </tr>\n",
       "    <tr>\n",
       "      <th>6</th>\n",
       "      <td>6.993</td>\n",
       "      <td>5.588458</td>\n",
       "    </tr>\n",
       "    <tr>\n",
       "      <th>7</th>\n",
       "      <td>4.308</td>\n",
       "      <td>5.094245</td>\n",
       "    </tr>\n",
       "    <tr>\n",
       "      <th>8</th>\n",
       "      <td>7.469</td>\n",
       "      <td>5.785401</td>\n",
       "    </tr>\n",
       "    <tr>\n",
       "      <th>9</th>\n",
       "      <td>4.575</td>\n",
       "      <td>5.215940</td>\n",
       "    </tr>\n",
       "    <tr>\n",
       "      <th>10</th>\n",
       "      <td>7.324</td>\n",
       "      <td>5.530862</td>\n",
       "    </tr>\n",
       "    <tr>\n",
       "      <th>11</th>\n",
       "      <td>2.905</td>\n",
       "      <td>5.230804</td>\n",
       "    </tr>\n",
       "    <tr>\n",
       "      <th>12</th>\n",
       "      <td>4.517</td>\n",
       "      <td>5.507638</td>\n",
       "    </tr>\n",
       "    <tr>\n",
       "      <th>13</th>\n",
       "      <td>5.891</td>\n",
       "      <td>5.014353</td>\n",
       "    </tr>\n",
       "    <tr>\n",
       "      <th>14</th>\n",
       "      <td>6.341</td>\n",
       "      <td>4.867575</td>\n",
       "    </tr>\n",
       "    <tr>\n",
       "      <th>15</th>\n",
       "      <td>6.455</td>\n",
       "      <td>5.972124</td>\n",
       "    </tr>\n",
       "    <tr>\n",
       "      <th>16</th>\n",
       "      <td>5.945</td>\n",
       "      <td>5.633978</td>\n",
       "    </tr>\n",
       "    <tr>\n",
       "      <th>17</th>\n",
       "      <td>4.694</td>\n",
       "      <td>5.867150</td>\n",
       "    </tr>\n",
       "    <tr>\n",
       "      <th>18</th>\n",
       "      <td>6.078</td>\n",
       "      <td>5.953545</td>\n",
       "    </tr>\n",
       "    <tr>\n",
       "      <th>19</th>\n",
       "      <td>4.668</td>\n",
       "      <td>5.971195</td>\n",
       "    </tr>\n",
       "    <tr>\n",
       "      <th>20</th>\n",
       "      <td>3.623</td>\n",
       "      <td>4.701289</td>\n",
       "    </tr>\n",
       "    <tr>\n",
       "      <th>21</th>\n",
       "      <td>6.494</td>\n",
       "      <td>6.006496</td>\n",
       "    </tr>\n",
       "    <tr>\n",
       "      <th>22</th>\n",
       "      <td>3.471</td>\n",
       "      <td>4.029641</td>\n",
       "    </tr>\n",
       "    <tr>\n",
       "      <th>23</th>\n",
       "      <td>5.546</td>\n",
       "      <td>5.275394</td>\n",
       "    </tr>\n",
       "    <tr>\n",
       "      <th>24</th>\n",
       "      <td>5.743</td>\n",
       "      <td>5.254028</td>\n",
       "    </tr>\n",
       "    <tr>\n",
       "      <th>25</th>\n",
       "      <td>6.431</td>\n",
       "      <td>5.943326</td>\n",
       "    </tr>\n",
       "    <tr>\n",
       "      <th>26</th>\n",
       "      <td>4.623</td>\n",
       "      <td>4.826700</td>\n",
       "    </tr>\n",
       "    <tr>\n",
       "      <th>27</th>\n",
       "      <td>6.239</td>\n",
       "      <td>5.646984</td>\n",
       "    </tr>\n",
       "    <tr>\n",
       "      <th>28</th>\n",
       "      <td>3.999</td>\n",
       "      <td>5.683213</td>\n",
       "    </tr>\n",
       "    <tr>\n",
       "      <th>29</th>\n",
       "      <td>6.399</td>\n",
       "      <td>6.206225</td>\n",
       "    </tr>\n",
       "  </tbody>\n",
       "</table>\n",
       "</div>"
      ],
      "text/plain": [
       "    Actual  Predicted\n",
       "0    4.417   5.617256\n",
       "1    7.406   5.961905\n",
       "2    3.904   4.869433\n",
       "3    3.808   4.856427\n",
       "4    5.878   5.561518\n",
       "5    6.774   5.293258\n",
       "6    6.993   5.588458\n",
       "7    4.308   5.094245\n",
       "8    7.469   5.785401\n",
       "9    4.575   5.215940\n",
       "10   7.324   5.530862\n",
       "11   2.905   5.230804\n",
       "12   4.517   5.507638\n",
       "13   5.891   5.014353\n",
       "14   6.341   4.867575\n",
       "15   6.455   5.972124\n",
       "16   5.945   5.633978\n",
       "17   4.694   5.867150\n",
       "18   6.078   5.953545\n",
       "19   4.668   5.971195\n",
       "20   3.623   4.701289\n",
       "21   6.494   6.006496\n",
       "22   3.471   4.029641\n",
       "23   5.546   5.275394\n",
       "24   5.743   5.254028\n",
       "25   6.431   5.943326\n",
       "26   4.623   4.826700\n",
       "27   6.239   5.646984\n",
       "28   3.999   5.683213\n",
       "29   6.399   6.206225"
      ]
     },
     "execution_count": 27,
     "metadata": {},
     "output_type": "execute_result"
    }
   ],
   "source": [
    "# Create a dataframe comparing the actual and predicted values of y\n",
    "data = pd.DataFrame({'Actual': y_test.flatten(), 'Predicted': y_predicted.flatten()})\n",
    "data.head(30)"
   ]
  },
  {
   "cell_type": "markdown",
   "id": "55386773",
   "metadata": {},
   "source": [
    "### 5b. Regressional Analysis vs Training Set "
   ]
  },
  {
   "cell_type": "code",
   "execution_count": 28,
   "id": "a0bd5e7d",
   "metadata": {},
   "outputs": [],
   "source": [
    "# Predict the X_train\n",
    "\n",
    "y_predicted_train = regression.predict(X_train)"
   ]
  },
  {
   "cell_type": "code",
   "execution_count": 29,
   "id": "39a9c090",
   "metadata": {},
   "outputs": [],
   "source": [
    "# Create objects that contain the model summary statistics\n",
    "\n",
    "rmse = mean_squared_error(y_train, y_predicted_train)\n",
    "r2 = r2_score(y_train, y_predicted_train)"
   ]
  },
  {
   "cell_type": "code",
   "execution_count": 30,
   "id": "ac853dcf",
   "metadata": {},
   "outputs": [
    {
     "name": "stdout",
     "output_type": "stream",
     "text": [
      "Slope: [[0.92897304]]\n",
      "Mean squared error:  0.9757885957860398\n",
      "R2 score:  0.2281240182298352\n"
     ]
    }
   ],
   "source": [
    "# Print the model summary statistics. This is where you evaluate the performance of the model\n",
    "\n",
    "print('Slope:' ,regression.coef_)\n",
    "print('Mean squared error: ', rmse)\n",
    "print('R2 score: ', r2)"
   ]
  },
  {
   "cell_type": "code",
   "execution_count": 31,
   "id": "52ac02f4",
   "metadata": {},
   "outputs": [
    {
     "data": {
      "image/png": "[encoded data removed]",
      "text/plain": [
       "<Figure size 432x288 with 1 Axes>"
      ]
     },
     "metadata": {
      "needs_background": "light"
     },
     "output_type": "display_data"
    }
   ],
   "source": [
    "# Visualizing the training set results.\n",
    "\n",
    "plot_test = plt\n",
    "plot_test.scatter(X_train, y_train, color='green', s = 15)\n",
    "plot_test.plot(X_train, y_predicted_train, color='red', linewidth =3)\n",
    "plot_test.title('Dystopia Residual vs Happiness Score (test set)')\n",
    "plot_test.xlabel('Dystopia Residual')\n",
    "plot_test.ylabel('Happiness Score')\n",
    "plot_test.show()"
   ]
  },
  {
   "cell_type": "markdown",
   "id": "c8a901c7",
   "metadata": {},
   "source": [
    "### Comparing the model summary statistics for both the test and training sets, we see that the numbers do not vary much. The slope remains 0.92, the MSE has a 0.006 difference, and the R2 score has a 0.05 difference. This means that I have not overfit the model. \n",
    "\n",
    "### We can see that there is variance within the data points. The dystopia residual as one factor impacting the happiness score is not enough to predict a country's happiness score. "
   ]
  }
 ],
 "metadata": {
  "kernelspec": {
   "display_name": "Python 3 (ipykernel)",
   "language": "python",
   "name": "python3"
  },
  "language_info": {
   "codemirror_mode": {
    "name": "ipython",
    "version": 3
   },
   "file_extension": ".py",
   "mimetype": "text/x-python",
   "name": "python",
   "nbconvert_exporter": "python",
   "pygments_lexer": "ipython3",
   "version": "3.9.12"
  }
 },
 "nbformat": 4,
 "nbformat_minor": 5
}
